{
 "cells": [
  {
   "cell_type": "markdown",
   "metadata": {},
   "source": [
    "Step 1\n",
    "\n",
    "Given a month (say February), return a list of dates in that month that the Central Ohio Python Users Group met (in the case of February, it would return 2/22/2010, 2/28/2011, 2/27/2012, 2/25/2013, 2/24/2014, and 2/29/2015.\n",
    "\n",
    "You can figure out those dates by implementing the following rules:\n",
    "\n",
    "    The first COhPy meeting was September 28, 2009.\n",
    "\n",
    "    COhPy meets the last Monday of the month, with the following exceptions:\n",
    "\n",
    "    COhPy never meets in November.\n",
    "\n",
    "    COhPy meets the first Monday of the month in December EXCEPT when that Monday is the 1st or 2nd of December, when it meets on the SECOND Monday.\n",
    "\n",
    "    In May, to avoid Memorial Day, COhPy meets on the second-to-last Monday of the month.\n"
   ]
  },
  {
   "cell_type": "code",
   "execution_count": 7,
   "metadata": {
    "collapsed": false
   },
   "outputs": [],
   "source": [
    "#Author:  Joe Friedrich\n",
    "#\n",
    "#Important Note!!  PYTHON 3 ONLY!\n",
    "\n",
    "import datetime\n",
    "import calendar\n",
    "import itertools"
   ]
  },
  {
   "cell_type": "code",
   "execution_count": 8,
   "metadata": {
    "collapsed": true
   },
   "outputs": [],
   "source": [
    "def get_month_from_user():\n",
    "    while True:\n",
    "        try:\n",
    "            input_month = int(input('Please enter the calendar month number:  '))\n",
    "            if 0 < input_month < 13: \n",
    "                return input_month\n",
    "            print (\"The number entered does not correspond with a month on the calendar.\\n\"\n",
    "                   'Please try again.')\n",
    "        except ValueError:\n",
    "            print ('That was not a whole number.  Please try again.')"
   ]
  },
  {
   "cell_type": "code",
   "execution_count": 9,
   "metadata": {
    "collapsed": false
   },
   "outputs": [],
   "source": [
    "def find_december_monday(currentYear):\n",
    "    month = 12\n",
    "    dates = []\n",
    "\n",
    "    for year in range(2009, currentYear + 1):\n",
    "        day = 1\n",
    "    \n",
    "        if calendar.weekday(year, month, day) == calendar.MONDAY:\n",
    "            day += 7\n",
    "            dates.append(str(month) + '/' + str(day) + '/' + str(year)) \n",
    "        elif calendar.weekday(year, month, day + 1) == calendar.MONDAY:\n",
    "            day += 8\n",
    "            dates.append(str(month) + '/' + str(day) + '/' + str(year))\n",
    "        else:\n",
    "            for day in range(3, 8):\n",
    "                if calendar.weekday(year, month, day) == calendar.MONDAY:\n",
    "                    dates.append(str(month) + '/' + str(day) + '/' + str(year))\n",
    "\n",
    "    return dates"
   ]
  },
  {
   "cell_type": "code",
   "execution_count": 10,
   "metadata": {
    "collapsed": true
   },
   "outputs": [],
   "source": [
    "def find_may_monday(currentYear):\n",
    "    month = 5\n",
    "    dates = []\n",
    "\n",
    "    for year in range(2010, currentYear + 1):\n",
    "        day = calendar.monthrange(year, month)[1]\n",
    "    \n",
    "        for day in range(day, 1, -1):\n",
    "            if calendar.weekday(year, month, day) == calendar.MONDAY:\n",
    "                day -= 7\n",
    "                dates.append(str(month) + '/' + str(day) + '/' + str(year))\n",
    "                break\n",
    "\n",
    "    return dates"
   ]
  },
  {
   "cell_type": "code",
   "execution_count": 11,
   "metadata": {
    "collapsed": false
   },
   "outputs": [],
   "source": [
    "def find_last_monday(currentYear, month):\n",
    "    dates = []\n",
    "    \n",
    "    if month == 9 or month == 10:\n",
    "        startYear = 2009\n",
    "    else:\n",
    "        startYear = 2010\n",
    "    \n",
    "    for year in range(startYear, currentYear + 1):\n",
    "        day = calendar.monthrange(year, month)[1]\n",
    "    \n",
    "        for day in range(day, 1, -1):\n",
    "            if calendar.weekday(year, month, day) == calendar.MONDAY:\n",
    "                dates.append(str(month) + '/' + str(day) + '/' + str(year))\n",
    "                break\n",
    "\n",
    "    return dates"
   ]
  },
  {
   "cell_type": "code",
   "execution_count": 12,
   "metadata": {
    "collapsed": false
   },
   "outputs": [
    {
     "name": "stdout",
     "output_type": "stream",
     "text": [
      "Please enter the calendar month number:  12\n",
      "['12/7/2009', '12/6/2010', '12/5/2011', '12/3/2012', '12/9/2013', '12/8/2014', '12/7/2015', '12/5/2016']\n"
     ]
    }
   ],
   "source": [
    "currentYear = datetime.date.today().year\n",
    "month = get_month_from_user()\n",
    "\n",
    "if month == 11:\n",
    "    print ('COhPy does not meet in November.')\n",
    "elif month == 12:\n",
    "    print (find_december_monday(currentYear))\n",
    "elif month == 5:\n",
    "    print (find_may_monday(currentYear))\n",
    "else:\n",
    "    print (find_last_monday(currentYear, month))"
   ]
  },
  {
   "cell_type": "code",
   "execution_count": null,
   "metadata": {
    "collapsed": true
   },
   "outputs": [],
   "source": []
  }
 ],
 "metadata": {
  "kernelspec": {
   "display_name": "Python 3",
   "language": "python",
   "name": "python3"
  },
  "language_info": {
   "codemirror_mode": {
    "name": "ipython",
    "version": 3
   },
   "file_extension": ".py",
   "mimetype": "text/x-python",
   "name": "python",
   "nbconvert_exporter": "python",
   "pygments_lexer": "ipython3",
   "version": "3.4.3"
  }
 },
 "nbformat": 4,
 "nbformat_minor": 0
}
