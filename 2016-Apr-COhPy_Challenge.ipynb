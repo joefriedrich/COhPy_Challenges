{
 "cells": [
  {
   "cell_type": "markdown",
   "metadata": {},
   "source": [
    "The April 2016 COhPy challenge\n",
    "\n",
    "The challenge for April is to find the 10 most common words (and how often they appeared) in the book Frankenstein by Mary Shelley. The full text is located at Project Gutenberg, here:\n",
    "\n",
    "http://www.gutenberg.org/cache/epub/84/pg84.txt\n",
    "\n",
    "Note that you can define \"word\" as you wish, however, your definition of \"word\" MUST be fully specified in text (code is not considered documentation) and your definition of \"word\" and word counts must be tested, using the Python testing framework of your choice: unittest, doctest, py.test, etc.\n",
    "\n",
    "Bonuses:\n",
    "\n",
    "1. Don't use Gutenberg header information as part of your word count.\n",
    "\n",
    "2. Extend your code to work with any Gutenberg text. Such as, From the Earth to the Moon by Jules Verne: http://www.gutenberg.org/cache/epub/83/pg83.txt\n",
    "\n",
    "3. Extend your code to work with ANY text.\n",
    "\n",
    "4. Extend your code to print any number of the most common words, from 10 to 100 or 1000, etc.\n",
    "\n",
    "5. Extend your code to collect other statistics of your choice on the text.\n",
    "\n",
    "6. Use a graphing tool or library to graph word frequency.\n"
   ]
  },
  {
   "cell_type": "code",
   "execution_count": null,
   "metadata": {
    "collapsed": true
   },
   "outputs": [],
   "source": []
  }
 ],
 "metadata": {
  "kernelspec": {
   "display_name": "Python 3",
   "language": "python",
   "name": "python3"
  },
  "language_info": {
   "codemirror_mode": {
    "name": "ipython",
    "version": 3
   },
   "file_extension": ".py",
   "mimetype": "text/x-python",
   "name": "python",
   "nbconvert_exporter": "python",
   "pygments_lexer": "ipython3",
   "version": "3.5.1"
  }
 },
 "nbformat": 4,
 "nbformat_minor": 0
}
