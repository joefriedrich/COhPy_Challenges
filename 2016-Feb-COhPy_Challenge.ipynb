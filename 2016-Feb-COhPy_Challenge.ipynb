{
 "cells": [
  {
   "cell_type": "code",
   "execution_count": 1,
   "metadata": {
    "collapsed": false
   },
   "outputs": [
    {
     "name": "stdout",
     "output_type": "stream",
     "text": [
      "2044\n"
     ]
    }
   ],
   "source": [
    "#Author:  Joe Friedrich\n",
    "#Purpose: When is the next COhPy Monthly meeting going to happen on LeapDay (February 29th)?\n",
    "\n",
    "import calendar\n",
    "\n",
    "for year in range(2017, 3000):                              #3000 was picked arbitrarily\n",
    "    if calendar.isleap(year) == True:\n",
    "        if calendar.weekday(year, 2, 29) == calendar.MONDAY:\n",
    "            print (year)\n",
    "            break"
   ]
  },
  {
   "cell_type": "code",
   "execution_count": 3,
   "metadata": {
    "collapsed": false
   },
   "outputs": [
    {
     "name": "stdout",
     "output_type": "stream",
     "text": [
      "2044\n"
     ]
    }
   ],
   "source": [
    "#Changed the range to an itertools count operation.\n",
    "\n",
    "import calendar\n",
    "from itertools import count\n",
    "\n",
    "for year in count(2017):\n",
    "    if calendar.isleap(year) == True:\n",
    "        if calendar.weekday(year, 2, 29) == calendar.MONDAY:\n",
    "            print (year)\n",
    "            break"
   ]
  },
  {
   "cell_type": "code",
   "execution_count": 4,
   "metadata": {
    "collapsed": false
   },
   "outputs": [
    {
     "name": "stdout",
     "output_type": "stream",
     "text": [
      "2044\n"
     ]
    }
   ],
   "source": [
    "# Removed the comparison to True.  \n",
    "# Also removed the comparison in general because isleap returns true.\n",
    "\n",
    "import calendar\n",
    "from itertools import count\n",
    "\n",
    "for year in count(2017):\n",
    "    if calendar.isleap(year):\n",
    "        if calendar.weekday(year, 2, 29) == calendar.MONDAY:\n",
    "            print (year)\n",
    "            break"
   ]
  },
  {
   "cell_type": "code",
   "execution_count": 6,
   "metadata": {
    "collapsed": false
   },
   "outputs": [
    {
     "name": "stdout",
     "output_type": "stream",
     "text": [
      "2044\n"
     ]
    }
   ],
   "source": [
    "# Removed magic number 2017.  \n",
    "# Changed it to 2016 and let the machine calculate next year.\n",
    "\n",
    "import calendar\n",
    "from itertools import count\n",
    "\n",
    "start_year = 2016\n",
    "\n",
    "for year in count(start_year + 1):\n",
    "    if calendar.isleap(year):\n",
    "        if calendar.weekday(year, 2, 29) == calendar.MONDAY:\n",
    "            print (year)\n",
    "            break"
   ]
  },
  {
   "cell_type": "code",
   "execution_count": 8,
   "metadata": {
    "collapsed": false
   },
   "outputs": [
    {
     "name": "stdout",
     "output_type": "stream",
     "text": [
      "2044\n"
     ]
    }
   ],
   "source": [
    "# Removed space between print and (year) per PEP-008\n",
    "\n",
    "import calendar\n",
    "from itertools import count\n",
    "\n",
    "start_year = 2016\n",
    "\n",
    "for year in count(start_year + 1):\n",
    "    if calendar.isleap(year):\n",
    "        if calendar.weekday(year, 2, 29) == calendar.MONDAY:\n",
    "            print(year)\n",
    "            break"
   ]
  },
  {
   "cell_type": "code",
   "execution_count": 33,
   "metadata": {
    "collapsed": false
   },
   "outputs": [
    {
     "name": "stdout",
     "output_type": "stream",
     "text": [
      "2044\n"
     ]
    }
   ],
   "source": [
    "# Converted script to a function.\n",
    "\n",
    "import calendar\n",
    "from itertools import count\n",
    "\n",
    "def year_of_next_leap_day_meeting():\n",
    "    start_year = 2016\n",
    "    \n",
    "    for year in count(start_year + 1):\n",
    "        if calendar.isleap(year):\n",
    "            if calendar.weekday(year, 2, 29) == calendar.MONDAY:\n",
    "                print(year)\n",
    "                break\n",
    "                \n",
    "year_of_next_leap_day_meeting()"
   ]
  },
  {
   "cell_type": "code",
   "execution_count": 34,
   "metadata": {
    "collapsed": false
   },
   "outputs": [
    {
     "name": "stdout",
     "output_type": "stream",
     "text": [
      "2044\n"
     ]
    }
   ],
   "source": [
    "# Parameterized start_year.\n",
    "\n",
    "import calendar\n",
    "from itertools import count\n",
    "\n",
    "def year_of_next_leap_day_meeting(start_year):\n",
    "    for year in count(start_year + 1):\n",
    "        if calendar.isleap(year):\n",
    "            if calendar.weekday(year, 2, 29) == calendar.MONDAY:\n",
    "                print(year)\n",
    "                break\n",
    "                \n",
    "year_of_next_leap_day_meeting(2016)"
   ]
  },
  {
   "cell_type": "code",
   "execution_count": 35,
   "metadata": {
    "collapsed": false
   },
   "outputs": [
    {
     "data": {
      "text/plain": [
       "2044"
      ]
     },
     "execution_count": 35,
     "metadata": {},
     "output_type": "execute_result"
    }
   ],
   "source": [
    "# Return value instead of printing it.\n",
    "# Now the function is a pure function, \n",
    "# which means that it has no I/O.\n",
    "# See Brandon Rhodes' video:  https://youtu.be/DJtef410XaM\n",
    "\n",
    "import calendar\n",
    "from itertools import count\n",
    "\n",
    "def year_of_next_leap_day_meeting(start_year):\n",
    "    for year in count(start_year + 1):\n",
    "        if calendar.isleap(year):\n",
    "            if calendar.weekday(year, 2, 29) == calendar.MONDAY:\n",
    "                return year\n",
    "\n",
    "year_of_next_leap_day_meeting(2016)"
   ]
  },
  {
   "cell_type": "code",
   "execution_count": 36,
   "metadata": {
    "collapsed": false
   },
   "outputs": [
    {
     "ename": "ValueError",
     "evalue": "day is out of range for month",
     "output_type": "error",
     "traceback": [
      "\u001b[1;31m---------------------------------------------------------------------------\u001b[0m",
      "\u001b[1;31mValueError\u001b[0m                                Traceback (most recent call last)",
      "\u001b[1;32m<ipython-input-36-9baa34f43225>\u001b[0m in \u001b[0;36m<module>\u001b[1;34m()\u001b[0m\n\u001b[0;32m     14\u001b[0m             \u001b[1;32mreturn\u001b[0m \u001b[0myear\u001b[0m\u001b[1;33m\u001b[0m\u001b[0m\n\u001b[0;32m     15\u001b[0m \u001b[1;33m\u001b[0m\u001b[0m\n\u001b[1;32m---> 16\u001b[1;33m \u001b[0myear_of_next_leap_day_meeting\u001b[0m\u001b[1;33m(\u001b[0m\u001b[1;36m2016\u001b[0m\u001b[1;33m)\u001b[0m\u001b[1;33m\u001b[0m\u001b[0m\n\u001b[0m",
      "\u001b[1;32m<ipython-input-36-9baa34f43225>\u001b[0m in \u001b[0;36myear_of_next_leap_day_meeting\u001b[1;34m(start_year)\u001b[0m\n\u001b[0;32m     11\u001b[0m     \u001b[1;32mfor\u001b[0m \u001b[0myear\u001b[0m \u001b[1;32min\u001b[0m \u001b[0mcount\u001b[0m\u001b[1;33m(\u001b[0m\u001b[0mstart_year\u001b[0m \u001b[1;33m+\u001b[0m \u001b[1;36m1\u001b[0m\u001b[1;33m)\u001b[0m\u001b[1;33m:\u001b[0m\u001b[1;33m\u001b[0m\u001b[0m\n\u001b[0;32m     12\u001b[0m         if (calendar.isleap(year) &\n\u001b[1;32m---> 13\u001b[1;33m                 (calendar.weekday(year, 2, 29) == calendar.MONDAY)):\n\u001b[0m\u001b[0;32m     14\u001b[0m             \u001b[1;32mreturn\u001b[0m \u001b[0myear\u001b[0m\u001b[1;33m\u001b[0m\u001b[0m\n\u001b[0;32m     15\u001b[0m \u001b[1;33m\u001b[0m\u001b[0m\n",
      "\u001b[1;32m/opt/conda/lib/python3.4/calendar.py\u001b[0m in \u001b[0;36mweekday\u001b[1;34m(year, month, day)\u001b[0m\n\u001b[0;32m    111\u001b[0m     \"\"\"Return weekday (0-6 ~ Mon-Sun) for year (1970-...), month (1-12),\n\u001b[0;32m    112\u001b[0m        day (1-31).\"\"\"\n\u001b[1;32m--> 113\u001b[1;33m     \u001b[1;32mreturn\u001b[0m \u001b[0mdatetime\u001b[0m\u001b[1;33m.\u001b[0m\u001b[0mdate\u001b[0m\u001b[1;33m(\u001b[0m\u001b[0myear\u001b[0m\u001b[1;33m,\u001b[0m \u001b[0mmonth\u001b[0m\u001b[1;33m,\u001b[0m \u001b[0mday\u001b[0m\u001b[1;33m)\u001b[0m\u001b[1;33m.\u001b[0m\u001b[0mweekday\u001b[0m\u001b[1;33m(\u001b[0m\u001b[1;33m)\u001b[0m\u001b[1;33m\u001b[0m\u001b[0m\n\u001b[0m\u001b[0;32m    114\u001b[0m \u001b[1;33m\u001b[0m\u001b[0m\n\u001b[0;32m    115\u001b[0m \u001b[1;33m\u001b[0m\u001b[0m\n",
      "\u001b[1;31mValueError\u001b[0m: day is out of range for month"
     ]
    }
   ],
   "source": [
    "# Combined if statements with deliberate bug \n",
    "# to show that the bitwise \"and\" operator, '&',\n",
    "# is the wrong operator to use.\n",
    "# Also split the if statement because it was too long.\n",
    "# See below cell for details.\n",
    "\n",
    "import calendar\n",
    "from itertools import count\n",
    "\n",
    "def year_of_next_leap_day_meeting(start_year):\n",
    "    for year in count(start_year + 1):\n",
    "        if (calendar.isleap(year) &\n",
    "                (calendar.weekday(year, 2, 29) == calendar.MONDAY)):\n",
    "            return year\n",
    "        \n",
    "year_of_next_leap_day_meeting(2016)"
   ]
  },
  {
   "cell_type": "code",
   "execution_count": 24,
   "metadata": {
    "collapsed": false
   },
   "outputs": [
    {
     "data": {
      "text/plain": [
       "68"
      ]
     },
     "execution_count": 24,
     "metadata": {},
     "output_type": "execute_result"
    }
   ],
   "source": [
    "# I wondered if one line above was too long per PEP8,\n",
    "# so I copy and pasted it into len(''),\n",
    "# and let Python figure out how long it was.\n",
    "# PEP8's limit is 79 characters.\n",
    "\n",
    "len('                (calendar.weekday(year, 2, 29) == calendar.MONDAY)):')"
   ]
  },
  {
   "cell_type": "code",
   "execution_count": 38,
   "metadata": {
    "collapsed": false
   },
   "outputs": [
    {
     "data": {
      "text/plain": [
       "2044"
      ]
     },
     "execution_count": 38,
     "metadata": {},
     "output_type": "execute_result"
    }
   ],
   "source": [
    "# Used logical 'and' operator.\n",
    "\n",
    "import calendar\n",
    "from itertools import count\n",
    "\n",
    "def year_of_next_leap_day_meeting(start_year):\n",
    "    for year in count(start_year + 1):\n",
    "        if (calendar.isleap(year) and\n",
    "                (calendar.weekday(year, 2, 29) == calendar.MONDAY)):\n",
    "            return year\n",
    "    \n",
    "year_of_next_leap_day_meeting(2016)"
   ]
  },
  {
   "cell_type": "code",
   "execution_count": 46,
   "metadata": {
    "collapsed": false
   },
   "outputs": [
    {
     "data": {
      "text/plain": [
       "2044"
      ]
     },
     "execution_count": 46,
     "metadata": {},
     "output_type": "execute_result"
    }
   ],
   "source": [
    "# Automated start_year.\n",
    "\n",
    "import calendar\n",
    "from itertools import count\n",
    "\n",
    "def year_of_next_leap_day_meeting(start_year):\n",
    "    for year in count(start_year + 1):\n",
    "        if (calendar.isleap(year) and\n",
    "                (calendar.weekday(year, 2, 29) == calendar.MONDAY)):\n",
    "            return year\n",
    "\n",
    "this_year = datetime.date.today().year\n",
    "year_of_next_leap_day_meeting(this_year)"
   ]
  },
  {
   "cell_type": "code",
   "execution_count": 47,
   "metadata": {
    "collapsed": false
   },
   "outputs": [
    {
     "data": {
      "text/plain": [
       "2044"
      ]
     },
     "execution_count": 47,
     "metadata": {},
     "output_type": "execute_result"
    }
   ],
   "source": [
    "# This won't work for january :(  Fix it!\n",
    "\n",
    "import calendar\n",
    "from itertools import count\n",
    "\n",
    "def year_of_next_leap_day_meeting(start_year):\n",
    "    for year in count(start_year + 1):\n",
    "        if (calendar.isleap(year) and\n",
    "                (calendar.weekday(year, 2, 29) == calendar.MONDAY)):\n",
    "            return year\n",
    "\n",
    "this_year = datetime.date.today().year\n",
    "\n",
    "year_of_next_leap_day_meeting(this_year)"
   ]
  },
  {
   "cell_type": "code",
   "execution_count": null,
   "metadata": {
    "collapsed": true
   },
   "outputs": [],
   "source": []
  }
 ],
 "metadata": {
  "kernelspec": {
   "display_name": "Python 3",
   "language": "python",
   "name": "python3"
  },
  "language_info": {
   "codemirror_mode": {
    "name": "ipython",
    "version": 3
   },
   "file_extension": ".py",
   "mimetype": "text/x-python",
   "name": "python",
   "nbconvert_exporter": "python",
   "pygments_lexer": "ipython3",
   "version": "3.4.3"
  }
 },
 "nbformat": 4,
 "nbformat_minor": 0
}
