{
 "cells": [
  {
   "cell_type": "markdown",
   "metadata": {},
   "source": [
    "Step 1\n",
    "\n",
    "Given a month (say February), return a list of dates in that month that the Central Ohio Python Users Group met (in the case of February, it would return 2/22/2010, 2/28/2011, 2/27/2012, 2/25/2013, 2/24/2014, and 2/29/2015.\n",
    "\n",
    "You can figure out those dates by implementing the following rules:\n",
    "\n",
    "    The first COhPy meeting was September 28, 2009.\n",
    "\n",
    "    COhPy meets the last Monday of the month, with the following exceptions:\n",
    "\n",
    "    COhPy never meets in November.\n",
    "\n",
    "    COhPy meets the first Monday of the month in December EXCEPT when that Monday is the 1st or 2nd of December, when it meets on the SECOND Monday.\n",
    "\n",
    "    In May, to avoid Memorial Day, COhPy meets on the second-to-last Monday of the month.\n"
   ]
  },
  {
   "cell_type": "code",
   "execution_count": 1,
   "metadata": {
    "collapsed": true
   },
   "outputs": [],
   "source": [
    "#Copy the raw challenge doc, not the txt off the website."
   ]
  },
  {
   "cell_type": "markdown",
   "metadata": {},
   "source": [
    "#  COhPy March 2016 Challenge\n",
    "This is the coding challenge for the Central Ohio Python Users Group for March 2016.\n",
    "\n",
    "Building on last month's challenge, this month's challenge will involve figuring out dates.\n",
    "\n",
    "This challenge has three parts. Each part builds on the previous part, and feel free to do\n",
    "all the parts or only some. This challenge is for you, so implement it any way you want. Find\n",
    "a new module, or way of implementing that scratches your itches.\n",
    "\n",
    "# Part One\n",
    "\n",
    "Given a month (say February), return a list of dates in that month that the Central Ohio Python\n",
    "Users Group met (in the case of February, it would return 2/22/2010, 2/28/2011, 2/27/2012, \n",
    "2/25/2013, 2/24/2014, 2/23/2015, and 2/29/2016.\n",
    "\n",
    "You can figure out those dates by implementing the following rules:\n",
    "\n",
    "1. The first COhPy meeting was September 28, 2009.\n",
    "\n",
    "2. COhPy meets the last Monday of the month, with the following exceptions:\n",
    "\n",
    "3. COhPy never meets in November.\n",
    "\n",
    "4. COhPy meets the first Monday of the month in December EXCEPT when that Monday is the 1st or 2nd of December, when it meets on the SECOND Monday.\n",
    "\n",
    "5. In May, to avoid Memorial Day, COhPy meets on the second-to-last Monday of the month.\n",
    "\n",
    "# Part Two\n",
    "\n",
    "Given a set of dates (particularly the dates returned in Part One), return the high temperature in Columbus, Ohio\n",
    "at the airport (weather station KCMH) for each of those dates.\n",
    "\n",
    "Here are a couple of resources to get historical weather observations:\n",
    "\n",
    "APIs:\n",
    " * https://www.wunderground.com/weather/api/d/docs?d=data/history\n",
    " * https://developer.forecast.io/docs/v2#time_call\n",
    " * https://developer.worldweatheronline.com/api/historical-weather-api.aspx\n",
    "\n",
    "CSV and other data:\n",
    " * http://www.ncdc.noaa.gov/cdo-web/search\n",
    "\n",
    "# Part Three\n",
    "\n",
    "Based on the data in Part Two (or whatever data you want) predict the high temperature for the next COhPy meetup. Your\n",
    "prediction algorithm will run on meetup day the month prior to the one you are predicting.\n",
    "\n",
    "At the April 2016 meeting we will run your prediction algorithms, and at the May meetup, the algorithm that most closely\n",
    "predicted the high reported by weather station KCMH for the May meetup will receive a Python ball cap! In the event of a tie,\n",
    "the tied algorithms will face off to predict June (or we'll randomly decide :-)!\n",
    "\n",
    "\n"
   ]
  },
  {
   "cell_type": "code",
   "execution_count": 7,
   "metadata": {
    "collapsed": false
   },
   "outputs": [],
   "source": [
    "#Author:  Joe Friedrich\n",
    "#\n",
    "#Important Note!!  PYTHON 3 ONLY!\n",
    "\n",
    "import datetime\n",
    "import calendar\n",
    "import itertools"
   ]
  },
  {
   "cell_type": "code",
   "execution_count": 3,
   "metadata": {
    "collapsed": true
   },
   "outputs": [],
   "source": [
    "#Original\n",
    "def get_month_from_user():\n",
    "    while True:\n",
    "        try:\n",
    "            input_month = int(input('Please enter the calendar month number:  '))\n",
    "            if 0 < input_month < 13: \n",
    "                return input_month\n",
    "            print (\"The number entered does not correspond with a month on the calendar.\\n\"\n",
    "                   'Please try again.')\n",
    "        except ValueError:\n",
    "            print ('That was not a whole number.  Please try again.')"
   ]
  },
  {
   "cell_type": "code",
   "execution_count": 5,
   "metadata": {
    "collapsed": true
   },
   "outputs": [],
   "source": [
    "#Don't use 0 and 13.  1 and 12 make more sense/readable.\n",
    "def get_month_from_user():\n",
    "    while True:\n",
    "        try:\n",
    "            input_month = int(input('Please enter the calendar month number:  '))\n",
    "            if 1 <= input_month <= 12: \n",
    "                return input_month\n",
    "            print (\"The number entered does not correspond with a month on the calendar.\\n\"\n",
    "                   'Please try again.')\n",
    "        except ValueError:\n",
    "            print ('That was not a whole number.  Please try again.')"
   ]
  },
  {
   "cell_type": "code",
   "execution_count": 10,
   "metadata": {
    "collapsed": false
   },
   "outputs": [
    {
     "data": {
      "text/plain": [
       "90"
      ]
     },
     "execution_count": 10,
     "metadata": {},
     "output_type": "execute_result"
    }
   ],
   "source": [
    "#PEP-008 specifies that the max lenght of line is 79 char\n",
    "len('            print (\"The number entered does not correspond with a month on the calendar.\\n\"')"
   ]
  },
  {
   "cell_type": "code",
   "execution_count": 8,
   "metadata": {
    "collapsed": true
   },
   "outputs": [],
   "source": [
    "#Fixing long lines\n",
    "def get_month_from_user():\n",
    "    while True:\n",
    "        try:\n",
    "            input_month = int(input(\n",
    "                    'Please enter the calendar month number:  '))\n",
    "            if 1 <= input_month <= 12: \n",
    "                return input_month\n",
    "            print(\"The number entered does not correspond \"\n",
    "                  \"with a month on the calendar.\")\n",
    "            print('Please try again.')\n",
    "        except ValueError:\n",
    "            print ('That was not a whole number.  Please try again.')"
   ]
  },
  {
   "cell_type": "code",
   "execution_count": 12,
   "metadata": {
    "collapsed": true
   },
   "outputs": [],
   "source": [
    "#Original\n",
    "def find_december_monday(currentYear):\n",
    "    month = 12\n",
    "    dates = []\n",
    "\n",
    "    for year in range(2009, currentYear + 1):\n",
    "        day = 1\n",
    "    \n",
    "        if calendar.weekday(year, month, day) == calendar.MONDAY:\n",
    "            day += 7\n",
    "            dates.append(str(month) + '/' + str(day) + '/' + str(year)) \n",
    "        elif calendar.weekday(year, month, day + 1) == calendar.MONDAY:\n",
    "            day += 8\n",
    "            dates.append(str(month) + '/' + str(day) + '/' + str(year))\n",
    "        else:\n",
    "            for day in range(3, 8):\n",
    "                if calendar.weekday(year, month, day) == calendar.MONDAY:\n",
    "                    dates.append(str(month) + '/' + str(day) + '/' + str(year))\n",
    "\n",
    "    return dates"
   ]
  },
  {
   "cell_type": "code",
   "execution_count": 13,
   "metadata": {
    "collapsed": true
   },
   "outputs": [],
   "source": [
    "#Rewrite the output nicely\n",
    "def find_december_monday(currentYear):\n",
    "    month = 12\n",
    "    dates = []\n",
    "\n",
    "    for year in range(2009, currentYear + 1):\n",
    "        day = 1\n",
    "\n",
    "        if calendar.weekday(year, month, day) == calendar.MONDAY:\n",
    "            day += 7\n",
    "            mmddyyyy = '%s/%s/%s' % (month, day, year)\n",
    "            dates.append(mmddyyyy)\n",
    "        elif calendar.weekday(year, month, day + 1) == calendar.MONDAY:\n",
    "            day += 8\n",
    "            mmddyyyy = '%s/%s/%s' % (month, day, year)\n",
    "            dates.append(mmddyyyy)\n",
    "        else:\n",
    "            for day in range(3, 8):\n",
    "                if calendar.weekday(year, month, day) == calendar.MONDAY:\n",
    "                    mmddyyyy = '%s/%s/%s' % (month, day, year)\n",
    "                    dates.append(mmddyyyy)\n",
    "\n",
    "    return dates"
   ]
  },
  {
   "cell_type": "code",
   "execution_count": 9,
   "metadata": {
    "collapsed": true
   },
   "outputs": [],
   "source": [
    "#Make our magic number a readable variable\n",
    "DAYS_IN_A_WEEK = 7"
   ]
  },
  {
   "cell_type": "code",
   "execution_count": null,
   "metadata": {
    "collapsed": true
   },
   "outputs": [],
   "source": [
    "#Make our magic number a readable variable\n",
    "def find_december_monday(currentYear):\n",
    "    month = 12\n",
    "    dates = []\n",
    "\n",
    "    for year in range(2009, currentYear + 1):\n",
    "        day = 1\n",
    "\n",
    "        if calendar.weekday(year, month, day) == calendar.MONDAY:\n",
    "            day += DAYS_IN_A_WEEK\n",
    "            mmddyyyy = '%s/%s/%s' % (month, day, year)\n",
    "            dates.append(mmddyyyy)\n",
    "        elif calendar.weekday(year, month, day + 1) == calendar.MONDAY:\n",
    "            day += DAYS_IN_A_WEEK + 1\n",
    "            mmddyyyy = '%s/%s/%s' % (month, day, year)\n",
    "            dates.append(mmddyyyy)\n",
    "        else:\n",
    "            for day in range(3, 8):\n",
    "                if calendar.weekday(year, month, day) == calendar.MONDAY:\n",
    "                    mmddyyyy = '%s/%s/%s' % (month, day, year)\n",
    "                    dates.append(mmddyyyy)\n",
    "\n",
    "    return dates"
   ]
  },
  {
   "cell_type": "code",
   "execution_count": 23,
   "metadata": {
    "collapsed": false
   },
   "outputs": [],
   "source": [
    "#Retooled the process\n",
    "#see jim's email for more\n",
    "\n",
    "def find_december_monday(currentYear):\n",
    "    month = 12\n",
    "    dates = []\n",
    "\n",
    "    for year in range(2009, currentYear + 1):\n",
    "        day = 1\n",
    "    \n",
    "        for day in itertools.count(1):\n",
    "            if calendar.weekday(year, month, day) == calendar.MONDAY:\n",
    "                if day <= 2:\n",
    "                    day += DAYS_IN_A_WEEK\n",
    "                mmddyyyy = '%s/%s/%s' % (month, day, year)\n",
    "                dates.append(mmddyyyy)\n",
    "                break\n",
    "\n",
    "    return dates"
   ]
  },
  {
   "cell_type": "code",
   "execution_count": 25,
   "metadata": {
    "collapsed": true
   },
   "outputs": [],
   "source": [
    "def find_may_monday(currentYear):\n",
    "    month = 5\n",
    "    dates = []\n",
    "\n",
    "    for year in range(2010, currentYear + 1):\n",
    "        day = calendar.monthrange(year, month)[1]\n",
    "    \n",
    "        for day in range(day, 1, -1):\n",
    "            if calendar.weekday(year, month, day) == calendar.MONDAY:\n",
    "                day -= DAYS_IN_A_WEEK\n",
    "                mmddyyyy = '%s/%s/%s' % (month, day, year)\n",
    "                dates.append(mmddyyyy)\n",
    "                break\n",
    "\n",
    "    return dates"
   ]
  },
  {
   "cell_type": "code",
   "execution_count": 30,
   "metadata": {
    "collapsed": false
   },
   "outputs": [],
   "source": [
    "def find_last_monday(currentYear, month):\n",
    "    dates = []\n",
    "    \n",
    "    if month == 9 or month == 10:\n",
    "        startYear = 2009\n",
    "    else:\n",
    "        startYear = 2010\n",
    "    \n",
    "    for year in range(startYear, currentYear + 1):\n",
    "        day = calendar.monthrange(year, month)[1]\n",
    "    \n",
    "        for day in range(day, 1, -1):\n",
    "            if calendar.weekday(year, month, day) == calendar.MONDAY:\n",
    "                mmddyyyy = '%s/%s/%s' % (month, day, year)\n",
    "                dates.append(mmddyyyy)\n",
    "                break\n",
    "\n",
    "    return dates"
   ]
  },
  {
   "cell_type": "code",
   "execution_count": 33,
   "metadata": {
    "collapsed": false
   },
   "outputs": [
    {
     "name": "stdout",
     "output_type": "stream",
     "text": [
      "Please enter the calendar month number:  10\n",
      "['10/26/2009', '10/25/2010', '10/31/2011', '10/29/2012', '10/28/2013', '10/27/2014', '10/26/2015', '10/31/2016']\n"
     ]
    }
   ],
   "source": [
    "### currentYear = datetime.date.today().year\n",
    "month = get_month_from_user()\n",
    "\n",
    "if month == 11:\n",
    "    print ('COhPy does not meet in November.')\n",
    "elif month == 12:\n",
    "    print (find_december_monday(currentYear))\n",
    "elif month == 5:\n",
    "    print (find_may_monday(currentYear))\n",
    "else:\n",
    "    print (find_last_monday(currentYear, month))"
   ]
  },
  {
   "cell_type": "code",
   "execution_count": null,
   "metadata": {
    "collapsed": true
   },
   "outputs": [],
   "source": []
  }
 ],
 "metadata": {
  "kernelspec": {
   "display_name": "Python 3",
   "language": "python",
   "name": "python3"
  },
  "language_info": {
   "codemirror_mode": {
    "name": "ipython",
    "version": 3
   },
   "file_extension": ".py",
   "mimetype": "text/x-python",
   "name": "python",
   "nbconvert_exporter": "python",
   "pygments_lexer": "ipython3",
   "version": "3.5.1"
  }
 },
 "nbformat": 4,
 "nbformat_minor": 0
}
