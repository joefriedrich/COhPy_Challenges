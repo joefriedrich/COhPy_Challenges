{
 "cells": [
  {
   "cell_type": "markdown",
   "metadata": {},
   "source": [
    "Step 1\n",
    "\n",
    "Given a month (say February), return a list of dates in that month that the Central Ohio Python Users Group met (in the case of February, it would return 2/22/2010, 2/28/2011, 2/27/2012, 2/25/2013, 2/24/2014, and 2/29/2015.\n",
    "\n",
    "You can figure out those dates by implementing the following rules:\n",
    "\n",
    "    The first COhPy meeting was September 28, 2009.\n",
    "\n",
    "    COhPy meets the last Monday of the month, with the following exceptions:\n",
    "\n",
    "    COhPy never meets in November.\n",
    "\n",
    "    COhPy meets the first Monday of the month in December EXCEPT when that Monday is the 1st or 2nd of December, when it meets on the SECOND Monday.\n",
    "\n",
    "    In May, to avoid Memorial Day, COhPy meets on the second-to-last Monday of the month.\n"
   ]
  },
  {
   "cell_type": "code",
   "execution_count": 8,
   "metadata": {
    "collapsed": false
   },
   "outputs": [
    {
     "name": "stdout",
     "output_type": "stream",
     "text": [
      "(5, 30)\n"
     ]
    }
   ],
   "source": [
    "import calendar\n",
    "import itertools\n",
    "\n",
    "# force month number from user or find something that converts abbrev to numbers\n",
    "# ----------compare against calendar.monthname or calendar.monthabbrev\n",
    "# -----------------force front caps?\n",
    "\n",
    "print (calendar.monthrange(2017, 4))\n",
    "\n",
    "#for 2017 to 2009 (2010 if month before sept)\n",
    "    #is last day not monday?----- calendar.weekday(year, month, day) != calendar.MONDAY\n",
    "        # true = day -1\n",
    "        # false = print and ++ year and break\n",
    "#remember:  NOV = kill program\n",
    "#remember:  dec = first monday = first number in calendar.monthrange\n",
    "#remember:\n",
    "######Note:  is there a formula to calculate last day in month from first day and number of days?\n",
    "######-----------Can make a matrix/array\n",
    "######Everything follows 29, except for (0,28), (6,30), (5,31), (6,31) ... and may/nov/dec\n",
    "######-----------Don;t use magic numbers.  just interate."
   ]
  },
  {
   "cell_type": "code",
   "execution_count": null,
   "metadata": {
    "collapsed": true
   },
   "outputs": [],
   "source": []
  }
 ],
 "metadata": {
  "kernelspec": {
   "display_name": "Python 3",
   "language": "python",
   "name": "python3"
  },
  "language_info": {
   "codemirror_mode": {
    "name": "ipython",
    "version": 3
   },
   "file_extension": ".py",
   "mimetype": "text/x-python",
   "name": "python",
   "nbconvert_exporter": "python",
   "pygments_lexer": "ipython3",
   "version": "3.4.3"
  }
 },
 "nbformat": 4,
 "nbformat_minor": 0
}
