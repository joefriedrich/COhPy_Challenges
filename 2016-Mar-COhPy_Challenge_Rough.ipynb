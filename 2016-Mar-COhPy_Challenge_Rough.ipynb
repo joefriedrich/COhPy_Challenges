{
 "cells": [
  {
   "cell_type": "markdown",
   "metadata": {},
   "source": [
    "Step 1\n",
    "\n",
    "Given a month (say February), return a list of dates in that month that the Central Ohio Python Users Group met (in the case of February, it would return 2/22/2010, 2/28/2011, 2/27/2012, 2/25/2013, 2/24/2014, and 2/29/2015.\n",
    "\n",
    "You can figure out those dates by implementing the following rules:\n",
    "\n",
    "    The first COhPy meeting was September 28, 2009.\n",
    "\n",
    "    COhPy meets the last Monday of the month, with the following exceptions:\n",
    "\n",
    "    COhPy never meets in November.\n",
    "\n",
    "    COhPy meets the first Monday of the month in December EXCEPT when that Monday is the 1st or 2nd of December, when it meets on the SECOND Monday.\n",
    "\n",
    "    In May, to avoid Memorial Day, COhPy meets on the second-to-last Monday of the month.\n"
   ]
  },
  {
   "cell_type": "code",
   "execution_count": 2,
   "metadata": {
    "collapsed": false
   },
   "outputs": [
    {
     "name": "stdout",
     "output_type": "stream",
     "text": [
      "(5, 30)\n"
     ]
    }
   ],
   "source": [
    "import calendar\n",
    "import itertools\n",
    "\n",
    "# force month number from user or find something that converts abbrev to numbers\n",
    "# ----------compare against calendar.monthname or calendar.monthabbrev\n",
    "# -----------------force front caps?\n",
    "\n",
    "print (calendar.monthrange(2017, 4))\n",
    "\n",
    "#for 2017 to 2009 (2010 if month before sept)\n",
    "    #is last day not monday?----- calendar.weekday(year, month, day) != calendar.MONDAY\n",
    "        # true = day -1\n",
    "        # false = print and ++ year and break\n",
    "#remember:  NOV = kill program\n",
    "#remember:  dec = first monday = first number in calendar.monthrange\n",
    "#remember:\n",
    "######Note:  is there a formula to calculate last day in month from first day and number of days?\n",
    "######-----------Can make a matrix/array\n",
    "######Everything follows 29, except for (0,28), (6,30), (5,31), (6,31) ... and may/nov/dec\n",
    "######-----------Don;t use magic numbers.  just interate."
   ]
  },
  {
   "cell_type": "markdown",
   "metadata": {},
   "source": [
    "----------------------End First thoughts-----------------"
   ]
  },
  {
   "cell_type": "code",
   "execution_count": 19,
   "metadata": {
    "collapsed": false
   },
   "outputs": [
    {
     "name": "stdout",
     "output_type": "stream",
     "text": [
      "Please enter the calendar month number:  2\n",
      "(0, 29)\n"
     ]
    }
   ],
   "source": [
    "import calendar\n",
    "import itertools\n",
    "\n",
    "year = datetime.date.today().year\n",
    "\n",
    "while True:\n",
    "    try:\n",
    "        month = int(input ('Please enter the calendar month number:  '))\n",
    "        if 0 < month < 13: \n",
    "            break\n",
    "        print (\"The number entered does not correspond with a month on the calendar.\\n\"\n",
    "               'Please try again.')\n",
    "    except ValueError:\n",
    "        print ('That was not a number.  Please try again.')\n",
    "\n",
    "print (calendar.monthrange(year, month))"
   ]
  },
  {
   "cell_type": "markdown",
   "metadata": {},
   "source": [
    "------------End first try----------"
   ]
  },
  {
   "cell_type": "code",
   "execution_count": 1,
   "metadata": {
    "collapsed": false
   },
   "outputs": [
    {
     "ename": "SyntaxError",
     "evalue": "invalid syntax (<ipython-input-1-924b4103a9a5>, line 23)",
     "output_type": "error",
     "traceback": [
      "\u001b[1;36m  File \u001b[1;32m\"<ipython-input-1-924b4103a9a5>\"\u001b[1;36m, line \u001b[1;32m23\u001b[0m\n\u001b[1;33m    print findDecemberMonday(year,month)\u001b[0m\n\u001b[1;37m                           ^\u001b[0m\n\u001b[1;31mSyntaxError\u001b[0m\u001b[1;31m:\u001b[0m invalid syntax\n"
     ]
    }
   ],
   "source": [
    "import datetime\n",
    "import calendar\n",
    "import itertools\n",
    "\n",
    "currentYear = datetime.date.today().year\n",
    "\n",
    "#Put this into its own function called getMonthFromUser.  return Month.\n",
    "while True:\n",
    "    try:\n",
    "        month = int(input ('Please enter the calendar month number:  '))\n",
    "        if 0 < month < 13: \n",
    "            break\n",
    "        print (\"The number entered does not correspond with a month on the calendar.\\n\"\n",
    "               'Please try again.')\n",
    "    except ValueError:\n",
    "        print ('That was not a number.  Please try again.')\n",
    "\n",
    "#Put this into its own function called monthLogic\n",
    "if month == 11:\n",
    "    print ('COhPy does not meet in November.')\n",
    "elif month == 12:\n",
    "    for year in count(currentYear, -1):\n",
    "        print findDecemberMonday(year,month)\n",
    "        if year == 2009:\n",
    "            break\n",
    "elif month == 5:\n",
    "    for year in count(currentYear, -1):\n",
    "        print findMayMonday(year,month)\n",
    "        if year == 2010:\n",
    "            break\n",
    "elif month == 9 or month == 10:\n",
    "    for year in count(currentYear, -1):\n",
    "        print findLastMonday(year, month)\n",
    "        if year == 2009:\n",
    "            break\n",
    "else\n",
    "    for year in count(currentYear, -1):\n",
    "        print findLastMonday(year, month)\n",
    "        if year == 2010\n",
    "            break\n",
    "\n",
    "#put this into it's own function called find last monday        \n",
    "calendar.monthrange(currentYear, month)"
   ]
  },
  {
   "cell_type": "code",
   "execution_count": 2,
   "metadata": {
    "collapsed": false
   },
   "outputs": [
    {
     "data": {
      "text/plain": [
       "29"
      ]
     },
     "execution_count": 2,
     "metadata": {},
     "output_type": "execute_result"
    }
   ],
   "source": [
    "import calendar\n",
    "\n",
    "calendar.monthrange(2016,2)[1]"
   ]
  },
  {
   "cell_type": "markdown",
   "metadata": {},
   "source": [
    "------------End second try---------"
   ]
  },
  {
   "cell_type": "code",
   "execution_count": 46,
   "metadata": {
    "collapsed": true
   },
   "outputs": [],
   "source": [
    "def get_month_from_user():\n",
    "    while True:\n",
    "        try:\n",
    "            input_month = int(input('Please enter the calendar month number:  '))\n",
    "            if 0 < input_month < 13: \n",
    "                return input_month\n",
    "            print (\"The number entered does not correspond with a month on the calendar.\\n\"\n",
    "                   'Please try again.')\n",
    "        except ValueError:\n",
    "            print ('That was not a whole number.  Please try again.')"
   ]
  },
  {
   "cell_type": "code",
   "execution_count": 47,
   "metadata": {
    "collapsed": false
   },
   "outputs": [
    {
     "name": "stdout",
     "output_type": "stream",
     "text": [
      "Please enter the calendar month number:  0\n",
      "The number entered does not correspond with a month on the calendar.\n",
      "Please try again.\n",
      "Please enter the calendar month number:  asl;kdjhjf\n",
      "That was not a whole number.  Please try again.\n",
      "Please enter the calendar month number:  12\n",
      "12\n"
     ]
    }
   ],
   "source": [
    "print (get_month_from_user())"
   ]
  },
  {
   "cell_type": "code",
   "execution_count": 61,
   "metadata": {
    "collapsed": false
   },
   "outputs": [
    {
     "name": "stdout",
     "output_type": "stream",
     "text": [
      "['2014/12/8']\n"
     ]
    }
   ],
   "source": [
    "year = 2016\n",
    "month = 12\n",
    "day = 1\n",
    "dates = []\n",
    "\n",
    "for year in range(currentYear, 2009, -1):\n",
    "    if calendar.weekday(year, month, day) == calendar.MONDAY:\n",
    "        day += 7\n",
    "        dates.append(str(year) + '/' + str(month) + '/' + str(day))\n",
    "\n",
    "print (dates)"
   ]
  },
  {
   "cell_type": "code",
   "execution_count": 40,
   "metadata": {
    "collapsed": false
   },
   "outputs": [],
   "source": [
    "import itertools\n",
    "import datetime\n",
    "import calendar\n",
    "\n",
    "def find_december_monday(currentYear):\n",
    "    month = 12\n",
    "    dates = []\n",
    "\n",
    "    for year in range(currentYear, 2008, -1):\n",
    "        day = 1\n",
    "    \n",
    "        if calendar.weekday(year, month, day) == calendar.MONDAY:\n",
    "            day += 7\n",
    "            dates.append(str(year) + '/' + str(month) + '/' + str(day)) \n",
    "        elif calendar.weekday(year, month, day + 1) == calendar.MONDAY:\n",
    "            day += 8\n",
    "            dates.append(str(year) + '/' + str(month) + '/' + str(day))\n",
    "        else:\n",
    "            for day in range(3, 8):\n",
    "                if calendar.weekday(year, month, day) == calendar.MONDAY:\n",
    "                    dates.append(str(year) + '/' + str(month) + '/' + str(day))\n",
    "\n",
    "    return dates"
   ]
  },
  {
   "cell_type": "code",
   "execution_count": 41,
   "metadata": {
    "collapsed": false
   },
   "outputs": [
    {
     "data": {
      "text/plain": [
       "['2016/12/5',\n",
       " '2015/12/7',\n",
       " '2014/12/8',\n",
       " '2013/12/9',\n",
       " '2012/12/3',\n",
       " '2011/12/5',\n",
       " '2010/12/6',\n",
       " '2009/12/7']"
      ]
     },
     "execution_count": 41,
     "metadata": {},
     "output_type": "execute_result"
    }
   ],
   "source": [
    "find_december_monday(2016)"
   ]
  },
  {
   "cell_type": "code",
   "execution_count": 62,
   "metadata": {
    "collapsed": true
   },
   "outputs": [],
   "source": [
    "import itertools\n",
    "import datetime\n",
    "import calendar\n",
    "\n",
    "def find_may_monday(currentYear):\n",
    "    month = 5\n",
    "    dates = []\n",
    "\n",
    "    for year in range(currentYear, 2009, -1):\n",
    "        day = calendar.monthrange(year, month)[1]\n",
    "    \n",
    "        for day in range(day, 1, -1):\n",
    "            if calendar.weekday(year, month, day) == calendar.MONDAY:\n",
    "                day -= 7\n",
    "                dates.append(str(year) + '/' + str(month) + '/' + str(day))\n",
    "                break\n",
    "\n",
    "    return dates"
   ]
  },
  {
   "cell_type": "code",
   "execution_count": 63,
   "metadata": {
    "collapsed": false
   },
   "outputs": [
    {
     "data": {
      "text/plain": [
       "['2016/5/23',\n",
       " '2015/5/18',\n",
       " '2014/5/19',\n",
       " '2013/5/20',\n",
       " '2012/5/21',\n",
       " '2011/5/23',\n",
       " '2010/5/24']"
      ]
     },
     "execution_count": 63,
     "metadata": {},
     "output_type": "execute_result"
    }
   ],
   "source": [
    "find_may_monday(2016)"
   ]
  },
  {
   "cell_type": "code",
   "execution_count": 71,
   "metadata": {
    "collapsed": false
   },
   "outputs": [],
   "source": [
    "import itertools\n",
    "import datetime\n",
    "import calendar\n",
    "\n",
    "def find_last_monday(currentYear, month):\n",
    "    dates = []\n",
    "    \n",
    "    if month == 9 or month == 10:\n",
    "        endYear = 2008\n",
    "    else:\n",
    "        endYear = 2009\n",
    "    \n",
    "    for year in range(currentYear, endYear, -1):\n",
    "        day = calendar.monthrange(year, month)[1]\n",
    "    \n",
    "        for day in range(day, 1, -1):\n",
    "            if calendar.weekday(year, month, day) == calendar.MONDAY:\n",
    "                dates.append(str(year) + '/' + str(month) + '/' + str(day))\n",
    "                break\n",
    "\n",
    "    return dates"
   ]
  },
  {
   "cell_type": "code",
   "execution_count": 77,
   "metadata": {
    "collapsed": false
   },
   "outputs": [
    {
     "data": {
      "text/plain": [
       "['2016/2/29',\n",
       " '2015/2/23',\n",
       " '2014/2/24',\n",
       " '2013/2/25',\n",
       " '2012/2/27',\n",
       " '2011/2/28',\n",
       " '2010/2/22']"
      ]
     },
     "execution_count": 77,
     "metadata": {},
     "output_type": "execute_result"
    }
   ],
   "source": [
    "find_last_monday(2016, 2)"
   ]
  },
  {
   "cell_type": "code",
   "execution_count": 90,
   "metadata": {
    "collapsed": false
   },
   "outputs": [
    {
     "name": "stdout",
     "output_type": "stream",
     "text": [
      "Please enter the calendar month number:  12\n",
      "['2016/12/5', '2015/12/7', '2014/12/8', '2013/12/9', '2012/12/3', '2011/12/5', '2010/12/6', '2009/12/7']\n"
     ]
    }
   ],
   "source": [
    "import datetime\n",
    "import calendar\n",
    "import itertools\n",
    "\n",
    "currentYear = datetime.date.today().year\n",
    "month = get_month_from_user()\n",
    "\n",
    "if month == 11:\n",
    "    print ('COhPy does not meet in November.')\n",
    "elif month == 12:\n",
    "    print (find_december_monday(currentYear))\n",
    "elif month == 5:\n",
    "    print (find_may_monday(currentYear))\n",
    "else:\n",
    "    print (find_last_monday(currentYear, month))"
   ]
  },
  {
   "cell_type": "code",
   "execution_count": null,
   "metadata": {
    "collapsed": true
   },
   "outputs": [],
   "source": []
  }
 ],
 "metadata": {
  "kernelspec": {
   "display_name": "Python 3",
   "language": "python",
   "name": "python3"
  },
  "language_info": {
   "codemirror_mode": {
    "name": "ipython",
    "version": 3
   },
   "file_extension": ".py",
   "mimetype": "text/x-python",
   "name": "python",
   "nbconvert_exporter": "python",
   "pygments_lexer": "ipython3",
   "version": "3.4.3"
  }
 },
 "nbformat": 4,
 "nbformat_minor": 0
}
